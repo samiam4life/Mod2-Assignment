{
 "cells": [
  {
   "cell_type": "code",
   "execution_count": 4,
   "id": "f54fba5a",
   "metadata": {},
   "outputs": [
    {
     "name": "stdout",
     "output_type": "stream",
     "text": [
      "Guess is too high!\n",
      "Secret =  2\n",
      "Guess =  6\n"
     ]
    }
   ],
   "source": [
    "import random\n",
    "\n",
    "#Getting the random numbers for guess and secret\n",
    "secret = random.randint(1,10)\n",
    "guess = random.randint(1,10)\n",
    "\n",
    "#Testing if guess is below, above or equal to secret\n",
    "if guess > secret:\n",
    "    print(\"Guess is too high!\")\n",
    "    \n",
    "elif guess < secret:\n",
    "        print(\"Guess is too low!\")\n",
    "        \n",
    "else: print(\"Guess is just right!\")\n",
    "\n",
    "#printing secret and guess to confirm\n",
    "print(\"Secret = \",secret)\n",
    "print(\"Guess = \",guess)"
   ]
  },
  {
   "cell_type": "code",
   "execution_count": null,
   "id": "f0140005",
   "metadata": {},
   "outputs": [],
   "source": []
  }
 ],
 "metadata": {
  "kernelspec": {
   "display_name": "Python 3 (ipykernel)",
   "language": "python",
   "name": "python3"
  },
  "language_info": {
   "codemirror_mode": {
    "name": "ipython",
    "version": 3
   },
   "file_extension": ".py",
   "mimetype": "text/x-python",
   "name": "python",
   "nbconvert_exporter": "python",
   "pygments_lexer": "ipython3",
   "version": "3.11.5"
  }
 },
 "nbformat": 4,
 "nbformat_minor": 5
}
