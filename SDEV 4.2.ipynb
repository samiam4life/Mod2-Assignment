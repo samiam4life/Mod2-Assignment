{
 "cells": [
  {
   "cell_type": "code",
   "execution_count": 3,
   "id": "5ed01fbc",
   "metadata": {},
   "outputs": [
    {
     "name": "stdout",
     "output_type": "stream",
     "text": [
      "cherry\n"
     ]
    }
   ],
   "source": [
    "#Setting small to stand for true and green for false\n",
    "small = True\n",
    "green = False\n",
    "\n",
    "#if else statements to verify size and colors for different items\n",
    "if small:  \n",
    "    if green: \n",
    "        print(\"pea\") \n",
    "    else: \n",
    "        print(\"cherry\")  \n",
    "else: \n",
    "    if green: \n",
    "        print(\"watermelon\") \n",
    "    else: \n",
    "        print(\"pumpkin\") "
   ]
  },
  {
   "cell_type": "code",
   "execution_count": null,
   "id": "f274a4fb",
   "metadata": {},
   "outputs": [],
   "source": []
  },
  {
   "cell_type": "code",
   "execution_count": null,
   "id": "a4e66533",
   "metadata": {},
   "outputs": [],
   "source": []
  }
 ],
 "metadata": {
  "kernelspec": {
   "display_name": "Python 3 (ipykernel)",
   "language": "python",
   "name": "python3"
  },
  "language_info": {
   "codemirror_mode": {
    "name": "ipython",
    "version": 3
   },
   "file_extension": ".py",
   "mimetype": "text/x-python",
   "name": "python",
   "nbconvert_exporter": "python",
   "pygments_lexer": "ipython3",
   "version": "3.11.5"
  }
 },
 "nbformat": 4,
 "nbformat_minor": 5
}
